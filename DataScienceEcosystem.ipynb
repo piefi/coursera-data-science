{
 "cells": [
  {
   "cell_type": "markdown",
   "id": "a4437115",
   "metadata": {},
   "source": [
    "# Data Science Tools and Ecosystem\n",
    "\n",
    "In this notebook, Data Science Tools and Ecosystem are summarized.\n",
    "\n",
    "## Author\n",
    "Andreas Piefke"
   ]
  },
  {
   "cell_type": "markdown",
   "id": "db2b4a39",
   "metadata": {},
   "source": [
    "Objectives:\n",
    "- Listing popular languages for Data Scientists\n",
    "- Listing commonly used libraries for Data Scientists\n",
    "- Listing tools for Data Science\n",
    "- Evaluation of simple arithmetic expressions\n",
    "- Conversion of minutes into hours"
   ]
  },
  {
   "cell_type": "markdown",
   "id": "b19023b0",
   "metadata": {},
   "source": [
    "Some of the popular languages that Data Scientists use are:\n",
    "1. Python\n",
    "1. R\n",
    "1. SQL\n",
    "1. Scala\n",
    "1. Java"
   ]
  },
  {
   "cell_type": "markdown",
   "id": "3b50b6f7",
   "metadata": {},
   "source": [
    "Some of the commonly used libraries used by Data Scientists include:\n",
    "1. pandas\n",
    "1. NumPy\n",
    "1. scikit-learn\n",
    "1. matplotlib\n",
    "1. ggplot2\n",
    "1. caret\n",
    "1. dplyr\n",
    "1. lattice"
   ]
  },
  {
   "cell_type": "markdown",
   "id": "4c1e6076",
   "metadata": {},
   "source": [
    "| Data Science Tools |\n",
    "| ------------------ |\n",
    "| Jupyter Notebooks |\n",
    "| RStudio |\n",
    "| Spyder |"
   ]
  },
  {
   "cell_type": "markdown",
   "id": "b7909b9f",
   "metadata": {},
   "source": [
    "### Below are a few examples of evaluating arithmetic expressions in Python"
   ]
  },
  {
   "cell_type": "code",
   "execution_count": 1,
   "id": "977950fe",
   "metadata": {},
   "outputs": [
    {
     "data": {
      "text/plain": [
       "17"
      ]
     },
     "execution_count": 1,
     "metadata": {},
     "output_type": "execute_result"
    }
   ],
   "source": [
    "# This a simple arithmetic expression to mutiply then add integers\n",
    "(3*4)+5"
   ]
  },
  {
   "cell_type": "code",
   "execution_count": 2,
   "id": "84b6e35e",
   "metadata": {},
   "outputs": [
    {
     "name": "stdout",
     "output_type": "stream",
     "text": [
      "200 minutes are 3.33 hours\n"
     ]
    }
   ],
   "source": [
    "# This will convert 200 minutes to hours by diving by 60\n",
    "print(f\"200 minutes are {(200 / 60):.2f} hours\")"
   ]
  }
 ],
 "metadata": {
  "kernelspec": {
   "display_name": ".venv",
   "language": "python",
   "name": "python3"
  },
  "language_info": {
   "codemirror_mode": {
    "name": "ipython",
    "version": 3
   },
   "file_extension": ".py",
   "mimetype": "text/x-python",
   "name": "python",
   "nbconvert_exporter": "python",
   "pygments_lexer": "ipython3",
   "version": "3.13.5"
  }
 },
 "nbformat": 4,
 "nbformat_minor": 5
}
